{
 "cells": [
  {
   "cell_type": "code",
   "execution_count": 1,
   "id": "conceptual-color",
   "metadata": {},
   "outputs": [],
   "source": [
    "import numpy as np\n",
    "import matplotlib.pyplot as plt\n",
    "from scipy.optimize import least_squares"
   ]
  },
  {
   "cell_type": "markdown",
   "id": "occupational-checkout",
   "metadata": {},
   "source": [
    "# Saha EOS\n",
    "\n",
    "$$\n",
    "C_\\text{Saha} = \\bigl(\\frac{2\\pi m_e k_B}{h^2}\\bigr)^\\frac{3}{2}\n",
    "$$"
   ]
  },
  {
   "cell_type": "code",
   "execution_count": 2,
   "id": "elegant-employee",
   "metadata": {},
   "outputs": [],
   "source": [
    "SAHA_CONST = 2.4146830395719654e+21 # /m^3\n",
    "\n",
    "def generate_saha_equations(T):\n",
    "    \"Generates Saha equations for the given absolute temperature.\"\n",
    "    # Beryllium\n",
    "    K   = SAHA_CONST * T**(3/2)\n",
    "    EPS = np.finfo(float).eps\n",
    "    kB  = 8.617333e-5    # eV/K\n",
    "\n",
    "    e1  =   9.3227  / kB # eV scaled to K\n",
    "    e2  =  18.21116 / kB # eV scaled to K\n",
    "    e3  = 153.89661 / kB # eV scaled to K\n",
    "    e4  = 217.71865 / kB # eV scaled to K\n",
    "\n",
    "    c1 = min(K * np.exp(-e1/T), 1e8)\n",
    "    c2 = min(K * np.exp(-e2/T), 1e8)\n",
    "    c3 = min(K * np.exp(-e3/T), 1e8)\n",
    "    c4 = min(K * np.exp(-e4/T), 1e8)\n",
    "\n",
    "    c1 = max(c1, 1e-8)\n",
    "    c2 = max(c2, 1e-8)\n",
    "    c3 = max(c3, 1e-8)\n",
    "    c4 = max(c4, 1e-8)\n",
    "    \n",
    "    def saha_equations(args):\n",
    "        f0, f1, f2, f3, f4, fe = args[:]\n",
    "        # auxiliary condition 1 (should be zero)\n",
    "        # conservation of atoms (fraction, all divided by total)\n",
    "        a1 = f0 + f1 + f2 + f3 + f4 - 1\n",
    "    \n",
    "        # auxiliary condition 2 (should be zero)\n",
    "        # conservation of charge\n",
    "        a2 = f1 + 2*f2 + 3*f3 + 4*f4 - fe\n",
    "\n",
    "        # Boltzmann conditions (should be zero)\n",
    "        b1 = f1*fe - f0*c1\n",
    "        b2 = f2*fe - f1*c2\n",
    "        b3 = f3*fe - f2*c3\n",
    "        b4 = f4*fe - f3*c4\n",
    "\n",
    "        return a1, a2, b1, b2, b3, b4\n",
    "\n",
    "    return saha_equations\n",
    "\n",
    "def saha(T):\n",
    "    e = generate_saha_equations(T)\n",
    "    #          f0   f1   f2   f3   f4   fe\n",
    "    minvals = (0.0, 0.0, 0.0, 0.0, 0.0, 0.0)\n",
    "    initial = (0.1, 0.1, 0.1, 0.1, 0.1, 0.5)\n",
    "    maxvals = (1.0, 1.0, 1.0, 1.0, 1.0, 4.0)\n",
    "    result = least_squares(e, initial, bounds=(minvals, maxvals))\n",
    "    return result.x"
   ]
  },
  {
   "cell_type": "code",
   "execution_count": 3,
   "id": "dependent-symphony",
   "metadata": {},
   "outputs": [
    {
     "data": {
      "image/png": "[encoded data removed]",
      "text/plain": [
       "<Figure size 432x288 with 1 Axes>"
      ]
     },
     "metadata": {
      "needs_background": "light"
     },
     "output_type": "display_data"
    }
   ],
   "source": [
    "temps = np.logspace(3, 5, 200)\n",
    "# Can't call it like a ufunc, so I'm improvising.\n",
    "fractions = np.vstack([saha(T) for T in temps])\n",
    "\n",
    "plt.semilogx(temps, fractions[:, 0], label=\"0\")\n",
    "plt.semilogx(temps, fractions[:, 1], label=\"+1\")\n",
    "plt.semilogx(temps, fractions[:, 2], label=\"+2\")\n",
    "plt.semilogx(temps, fractions[:, 3], label=\"+3\")\n",
    "plt.semilogx(temps, fractions[:, 4], label=\"+4\")\n",
    "plt.semilogx(temps, fractions[:, 5], label=\"e\")\n",
    "\n",
    "plt.legend(loc=\"best\")\n",
    "plt.xlabel(\"Energy\")\n",
    "plt.ylabel(\"Fraction\")\n",
    "plt.title(\"Beryllium EOS\")\n",
    "plt.show()"
   ]
  }
 ],
 "metadata": {
  "kernelspec": {
   "display_name": "Python 3",
   "language": "python",
   "name": "python3"
  },
  "language_info": {
   "codemirror_mode": {
    "name": "ipython",
    "version": 3
   },
   "file_extension": ".py",
   "mimetype": "text/x-python",
   "name": "python",
   "nbconvert_exporter": "python",
   "pygments_lexer": "ipython3",
   "version": "3.9.7"
  }
 },
 "nbformat": 4,
 "nbformat_minor": 5
}
