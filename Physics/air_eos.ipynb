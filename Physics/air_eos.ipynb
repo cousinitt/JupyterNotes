{
 "cells": [
  {
   "cell_type": "code",
   "execution_count": 1,
   "id": "finite-actor",
   "metadata": {},
   "outputs": [],
   "source": [
    "import numpy as np\n",
    "from scipy.interpolate import interp1d\n",
    "import matplotlib.pyplot as plt"
   ]
  },
  {
   "cell_type": "markdown",
   "id": "surrounded-ending",
   "metadata": {},
   "source": [
    "# Air EOS\n",
    "\n",
    "I examined data from these sources:\n",
    "\n",
    "+ [Engineering Toolbox](https://www.engineeringtoolbox.com/air-specific-heat-capacity-d_705.html)\n",
    "+ [Ohio University](https://www.ohio.edu/mechanical/thermo/property_tables/air/air_Cp_Cv.html)\n",
    "\n",
    "I found them to essentially overlap for the temperature ranges of interest.\n",
    "The Engineering Toolbox data covered a greater range than the Ohio data. So, the data below is from there."
   ]
  },
  {
   "cell_type": "code",
   "execution_count": 2,
   "id": "alleged-franklin",
   "metadata": {},
   "outputs": [],
   "source": [
    "air_data = np.array([\n",
    "    [6.000e+01, 1.901e+00, 1.173e+00, 1.621e+00],\n",
    "    [7.879e+01, 1.933e+00, 1.051e+00, 1.839e+00],\n",
    "    [8.161e+01, 1.089e+00, 7.500e-01, 1.452e+00],\n",
    "    [1.000e+02, 1.040e+00, 7.280e-01, 1.428e+00],\n",
    "    [1.200e+02, 1.022e+00, 7.225e-01, 1.415e+00],\n",
    "    [1.400e+02, 1.014e+00, 7.184e-01, 1.411e+00],\n",
    "    [1.600e+02, 1.011e+00, 7.172e-01, 1.410e+00],\n",
    "    [1.800e+02, 1.008e+00, 7.166e-01, 1.407e+00],\n",
    "    [2.000e+02, 1.007e+00, 7.163e-01, 1.406e+00],\n",
    "    [2.200e+02, 1.006e+00, 7.163e-01, 1.404e+00],\n",
    "    [2.400e+02, 1.006e+00, 7.164e-01, 1.404e+00],\n",
    "    [2.600e+02, 1.006e+00, 7.168e-01, 1.403e+00],\n",
    "    [2.732e+02, 1.006e+00, 7.171e-01, 1.403e+00],\n",
    "    [2.800e+02, 1.006e+00, 7.173e-01, 1.402e+00],\n",
    "    [2.887e+02, 1.006e+00, 7.175e-01, 1.402e+00],\n",
    "    [3.000e+02, 1.006e+00, 7.180e-01, 1.402e+00],\n",
    "    [3.200e+02, 1.007e+00, 7.192e-01, 1.400e+00],\n",
    "    [3.400e+02, 1.009e+00, 7.206e-01, 1.400e+00],\n",
    "    [3.600e+02, 1.010e+00, 7.223e-01, 1.398e+00],\n",
    "    [3.800e+02, 1.012e+00, 7.243e-01, 1.397e+00],\n",
    "    [4.000e+02, 1.014e+00, 7.266e-01, 1.396e+00],\n",
    "    [5.000e+02, 1.030e+00, 7.424e-01, 1.387e+00],\n",
    "    [6.000e+02, 1.051e+00, 7.641e-01, 1.375e+00],\n",
    "    [7.000e+02, 1.075e+00, 7.877e-01, 1.365e+00],\n",
    "    [8.000e+02, 1.099e+00, 8.117e-01, 1.354e+00],\n",
    "    [9.000e+02, 1.121e+00, 8.338e-01, 1.344e+00],\n",
    "    [1.100e+03, 1.159e+00, 8.716e-01, 1.329e+00],\n",
    "    [1.500e+03, 1.210e+00, 9.230e-01, 1.311e+00],\n",
    "    [1.900e+03, 1.241e+00, 9.535e-01, 1.301e+00]])\n",
    "\n",
    "air_cp = interp1d(air_data[:, 0], air_data[:, 1], fill_value=\"extrapolate\")\n",
    "air_cv = interp1d(air_data[:, 0], air_data[:, 2], fill_value=\"extrapolate\")\n",
    "air_gamma = interp1d(air_data[:, 0], air_data[:, 2], fill_value=\"extrapolate\")"
   ]
  },
  {
   "cell_type": "code",
   "execution_count": 3,
   "id": "bright-traffic",
   "metadata": {},
   "outputs": [
    {
     "data": {
      "image/png": "[encoded data removed]",
      "text/plain": [
       "<Figure size 432x288 with 1 Axes>"
      ]
     },
     "metadata": {
      "needs_background": "light"
     },
     "output_type": "display_data"
    }
   ],
   "source": [
    "plt.semilogx(air_data[:, 0], air_data[:, 1], label=\"cp\")\n",
    "plt.semilogx(air_data[:, 0], air_data[:, 2], label=\"cv\")\n",
    "plt.semilogx(air_data[:, 0], air_data[:, 3], label=\"gamma\")\n",
    "plt.legend(loc=\"best\")\n",
    "plt.show()"
   ]
  }
 ],
 "metadata": {
  "kernelspec": {
   "display_name": "Python 3",
   "language": "python",
   "name": "python3"
  },
  "language_info": {
   "codemirror_mode": {
    "name": "ipython",
    "version": 3
   },
   "file_extension": ".py",
   "mimetype": "text/x-python",
   "name": "python",
   "nbconvert_exporter": "python",
   "pygments_lexer": "ipython3",
   "version": "3.9.7"
  }
 },
 "nbformat": 4,
 "nbformat_minor": 5
}
