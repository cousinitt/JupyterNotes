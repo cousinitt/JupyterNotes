{
 "cells": [
  {
   "cell_type": "code",
   "execution_count": 1,
   "id": "extended-speech",
   "metadata": {},
   "outputs": [],
   "source": [
    "from math import exp, factorial\n",
    "from itertools import accumulate\n",
    "from bisect import bisect\n",
    "import random\n",
    "import matplotlib.pyplot as plt"
   ]
  },
  {
   "cell_type": "markdown",
   "id": "thermal-assessment",
   "metadata": {},
   "source": [
    "# Random Variates by Inverse CDF\n",
    "\n",
    "Here we are going to generate random variates sampled from a distribution by using the cumulative distribution function (CDF). Just so that we aren't re-hashing something that is in a textbook, lets try something like Poisson variate generation. Poisson variates are drawn from:\n",
    "\n",
    "$$\n",
    "\\text{PDF}(X = k) = \\frac{e^{-\\mu} \\mu^{k}}{k!}.\n",
    "$$\n",
    "\n",
    "The CDF is:\n",
    "\n",
    "$$\n",
    "\\text{CDF}(X = k) = e^{-\\mu} \\sum_{n = 0}^{k} \\frac{\\mu^n}{n!}.\n",
    "$$\n",
    "\n",
    "I'm not going to completely derive this here, but rather illustrate the steps. The CDF has a range of $[0, 1)$. So if you use a uniform random variate as the CDF, then solve for the $x$ value that would have produced that CDF, your distribution of $x$ would be the PDF of the target distribution. If your distribution has a very localized domain, this might work well, but if your distribution has _fat tails_ heading off to infinity, you might not get good performance out of this method.\n",
    "\n",
    "Below, I'm assuming that $\\mu$ is small, say, less than $1$:"
   ]
  },
  {
   "cell_type": "code",
   "execution_count": 2,
   "id": "removable-float",
   "metadata": {},
   "outputs": [],
   "source": [
    "def poisson_variate(mu, N=64):\n",
    "\n",
    "    # Get a list of CDF values (sequence of partial sums of PDF).\n",
    "    cdf = list(accumulate(exp(-mu)*mu**n/factorial(n) for n in range(10)))\n",
    "\n",
    "    while True:\n",
    "        u = random.random()\n",
    "        yield bisect(cdf, u) - 1"
   ]
  },
  {
   "cell_type": "markdown",
   "id": "annoying-brighton",
   "metadata": {},
   "source": [
    "Ok, let's test this thing. IT seems to work sort of okay for $\\mu$ less than $4$ or so? Beyond that it visibly messes up the tail."
   ]
  },
  {
   "cell_type": "code",
   "execution_count": 3,
   "id": "horizontal-creek",
   "metadata": {},
   "outputs": [
    {
     "data": {
      "image/png": "[encoded data removed]",
      "text/plain": [
       "<Figure size 432x288 with 1 Axes>"
      ]
     },
     "metadata": {
      "needs_background": "light"
     },
     "output_type": "display_data"
    }
   ],
   "source": [
    "g = poisson_variate(3.3)\n",
    "samples = [next(g) for i in range(1000)]\n",
    "plt.hist(samples)\n",
    "plt.show()"
   ]
  },
  {
   "cell_type": "markdown",
   "id": "conscious-share",
   "metadata": {},
   "source": [
    "# Distributions Trivially Obtained by Inverse CDF\n",
    "\n",
    "+ [Rayleigh Distribution](https://en.wikipedia.org/wiki/Poisson_distribution), circular-error probability, etc.\n",
    "+ [Exponential Distribution](https://en.wikipedia.org/wiki/Exponential_distribution)\n",
    "+ others?"
   ]
  }
 ],
 "metadata": {
  "kernelspec": {
   "display_name": "Python 3",
   "language": "python",
   "name": "python3"
  },
  "language_info": {
   "codemirror_mode": {
    "name": "ipython",
    "version": 3
   },
   "file_extension": ".py",
   "mimetype": "text/x-python",
   "name": "python",
   "nbconvert_exporter": "python",
   "pygments_lexer": "ipython3",
   "version": "3.9.7"
  }
 },
 "nbformat": 4,
 "nbformat_minor": 5
}
