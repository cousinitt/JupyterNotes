{
 "cells": [
  {
   "cell_type": "code",
   "execution_count": 1,
   "id": "alleged-synthesis",
   "metadata": {},
   "outputs": [],
   "source": [
    "import numpy as np\n",
    "from scipy.special import gamma, kv\n",
    "from scipy.optimize import differential_evolution\n",
    "import matplotlib.pyplot as plt"
   ]
  },
  {
   "cell_type": "markdown",
   "id": "fifty-macedonia",
   "metadata": {},
   "source": [
    "# Random Variate Generation\n",
    "\n",
    "Many times in industry, it is useful to be able to draw from random distributions that are not in your random number library. This is a well-studied problem, but it may be something that *you* have not studied."
   ]
  },
  {
   "cell_type": "markdown",
   "id": "arranged-liberty",
   "metadata": {},
   "source": [
    "## Selected Distributions\n",
    "\n",
    "Here are the density functions for a few probability distributions that are very likely not in your library of random variate generators."
   ]
  },
  {
   "cell_type": "code",
   "execution_count": 2,
   "id": "assumed-shame",
   "metadata": {},
   "outputs": [],
   "source": [
    "def von_karman(x):\n",
    "    \"von Karman correlation function\"\n",
    "    x = np.abs(x)\n",
    "    return 2**(2/3)/gamma(1/3) * x**(1/3) * kv(1/3, x)"
   ]
  },
  {
   "cell_type": "markdown",
   "id": "healthy-blade",
   "metadata": {},
   "source": [
    "## Metropolis Hastings Sampler\n",
    "\n",
    "+ These samplers need a burn-in period.\n",
    "+ If your proposal distribution is Gaussian, it is a *random walk* Metropolis Hastings sampler.\n",
    "+ You are shooting for an acceptance rate of about 0.3."
   ]
  },
  {
   "cell_type": "code",
   "execution_count": 3,
   "id": "disturbed-interim",
   "metadata": {},
   "outputs": [],
   "source": [
    "class MetropolisHastings:\n",
    "    def __init__(self, f, g):\n",
    "        # 'f' is your target distribution.\n",
    "        #     It only has to be porportional to the target distribution.\n",
    "        #     It is assumed to be hard to sample from, but reasonable to evaluate.\n",
    "        # 'g' Is your proposal distribution.\n",
    "        #     Here it is assumed to be symmetric.\n",
    "        \n",
    "        self.f = f\n",
    "        self.g = g\n",
    "        self.accept_rate = 0.5\n",
    "        self.ewma = 0.001\n",
    "\n",
    "        self.x = g()\n",
    "        self.fx = f(self.x)\n",
    "        \n",
    "    def __call__(self):\n",
    "        x_cand = self.x + self.g()\n",
    "        fcand = self.f(x_cand)\n",
    "        a = min(1, fcand/self.fx)\n",
    "        u = np.random.random_sample()\n",
    "        if a >= u:\n",
    "            self.x = x_cand\n",
    "            self.fx = fcand\n",
    "            self.accept_rate = self.ewma + (1 - self.ewma)*self.accept_rate\n",
    "        else:\n",
    "            self.accept_rate = (1 - self.ewma)*self.accept_rate\n",
    "            \n",
    "        return self.x"
   ]
  },
  {
   "cell_type": "markdown",
   "id": "miniature-retail",
   "metadata": {},
   "source": [
    "The good news is that as of here, we have a symmetric Metropolis-Hastings sampler. The bad news is that we don't really have any tools for tuning this thing so that is generates variates that we can rely on. We now need to be able to tune our proposal distribution so that the acceptance rate is about 0.3. I tried a lot of optimizers, but only `scipy.optimize.differential_evolution` worked for me. I think you need a global optimizer, and the acceptance ratio is a noisy output. You will really want to dial down the tolerance for convergence as well. If you're using this in real code, you should do a lot more checking."
   ]
  },
  {
   "cell_type": "code",
   "execution_count": 4,
   "id": "material-turning",
   "metadata": {},
   "outputs": [
    {
     "name": "stdout",
     "output_type": "stream",
     "text": [
      "     fun: 0.0001586922528260537\n",
      " message: 'Optimization terminated successfully.'\n",
      "    nfev: 80\n",
      "     nit: 1\n",
      " success: True\n",
      "       x: array([4.06780407])\n"
     ]
    }
   ],
   "source": [
    "OPTIMAL_ACCEPTANCE = 0.3\n",
    "SAMPLES = 10000\n",
    "\n",
    "def get_acceptance_ratio(p):\n",
    "    # I have hard-coded a proposal distribution.\n",
    "    # I have hard-coded a trial distribution.\n",
    "    s = lambda : np.random.normal(0, p)\n",
    "    d = MetropolisHastings(von_karman, s)\n",
    "    [d() for k in range(SAMPLES)]\n",
    "    return abs(d.accept_rate - OPTIMAL_ACCEPTANCE)\n",
    "\n",
    "result = differential_evolution(get_acceptance_ratio, [(0.1, 10)], atol=0.1)\n",
    "print(result)\n",
    "best_parameter = result.x[0]"
   ]
  },
  {
   "cell_type": "code",
   "execution_count": 5,
   "id": "assigned-current",
   "metadata": {},
   "outputs": [
    {
     "data": {
      "image/png": "[encoded data removed]",
      "text/plain": [
       "<Figure size 432x288 with 1 Axes>"
      ]
     },
     "metadata": {
      "needs_background": "light"
     },
     "output_type": "display_data"
    }
   ],
   "source": [
    "s = lambda : np.random.normal(0, 4)\n",
    "d = MetropolisHastings(von_karman, s)\n",
    "v = [d() for k in range(9000)]\n",
    "x = np.linspace(-5, 5, 100)\n",
    "y = von_karman(x)\n",
    "y /= -np.trapz(x, y)\n",
    "\n",
    "plt.hist(v, bins=101, density=True)\n",
    "plt.plot(x, y)\n",
    "plt.show()"
   ]
  },
  {
   "cell_type": "markdown",
   "id": "surprising-mexican",
   "metadata": {},
   "source": [
    "## Gibbs Sampler"
   ]
  }
 ],
 "metadata": {
  "kernelspec": {
   "display_name": "Python 3",
   "language": "python",
   "name": "python3"
  },
  "language_info": {
   "codemirror_mode": {
    "name": "ipython",
    "version": 3
   },
   "file_extension": ".py",
   "mimetype": "text/x-python",
   "name": "python",
   "nbconvert_exporter": "python",
   "pygments_lexer": "ipython3",
   "version": "3.9.7"
  }
 },
 "nbformat": 4,
 "nbformat_minor": 5
}
